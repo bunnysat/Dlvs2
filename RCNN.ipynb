{
  "nbformat": 4,
  "nbformat_minor": 0,
  "metadata": {
    "colab": {
      "provenance": [],
      "gpuType": "V28"
    },
    "kernelspec": {
      "name": "python3",
      "display_name": "Python 3"
    },
    "language_info": {
      "name": "python"
    },
    "accelerator": "TPU"
  },
  "cells": [
    {
      "cell_type": "code",
      "execution_count": null,
      "metadata": {
        "id": "P1IJPieI06vY"
      },
      "outputs": [],
      "source": [
        "import tensorflow as tf\n",
        "from tensorflow.keras.models import Model\n",
        "from tensorflow.keras.layers import Input, Conv2D, MaxPooling2D, Flatten, Dense, Dropout\n",
        "from tensorflow.keras.optimizers import Adam\n",
        "import numpy as np\n",
        "import matplotlib.pyplot as plt\n",
        "from sklearn.model_selection import train_test_split"
      ]
    },
    {
      "cell_type": "code",
      "source": [
        "(x_train, y_train), (x_test, y_test) = tf.keras.datasets.cifar10.load_data()\n",
        "\n",
        "# Normalize the data\n",
        "x_train = x_train.astype('float32') / 255.0\n",
        "x_test = x_test.astype('float32') / 255.0\n",
        "\n",
        "# Convert labels to one-hot encoding\n",
        "y_train_onehot = tf.keras.utils.to_categorical(y_train, 10)\n",
        "y_test_onehot = tf.keras.utils.to_categorical(y_test, 10)"
      ],
      "metadata": {
        "colab": {
          "base_uri": "https://localhost:8080/"
        },
        "id": "lT7CwP1o07zv",
        "outputId": "4d88d01d-e457-44bf-ed34-de241e041be5"
      },
      "execution_count": null,
      "outputs": [
        {
          "output_type": "stream",
          "name": "stdout",
          "text": [
            "Downloading data from https://www.cs.toronto.edu/~kriz/cifar-10-python.tar.gz\n",
            "170498071/170498071 [==============================] - 5s 0us/step\n"
          ]
        }
      ]
    },
    {
      "cell_type": "code",
      "source": [
        "# Define class names for CIFAR-10\n",
        "class_names = [\n",
        "    \"airplane\", \"automobile\", \"bird\", \"cat\", \"deer\",\n",
        "    \"dog\", \"frog\", \"horse\", \"ship\", \"truck\"\n",
        "]"
      ],
      "metadata": {
        "id": "U3DInoRI0-w2"
      },
      "execution_count": null,
      "outputs": []
    },
    {
      "cell_type": "code",
      "source": [
        "# Define the RCNN-like model\n",
        "def rcnn_model():\n",
        "    input_layer = Input(shape=(32, 32, 3))\n",
        "\n",
        "    # Convolutional base\n",
        "    x = Conv2D(32, (3, 3), activation='relu', padding='same')(input_layer)\n",
        "    x = MaxPooling2D((2, 2))(x)\n",
        "    x = Conv2D(64, (3, 3), activation='relu', padding='same')(x)\n",
        "    x = MaxPooling2D((2, 2))(x)\n",
        "    x = Flatten()(x)\n",
        "\n",
        "    # Fully connected layers for classification\n",
        "    classification_output = Dense(128, activation='relu')(x)\n",
        "    classification_output = Dense(10, activation='softmax', name=\"classification\")(classification_output)\n",
        "\n",
        "    # Fully connected layers for bounding box regression\n",
        "    bounding_box_output = Dense(128, activation='relu')(x)\n",
        "    bounding_box_output = Dense(4, activation='sigmoid', name=\"bounding_box\")(bounding_box_output)\n",
        "\n",
        "    # Combine outputs\n",
        "    model = Model(inputs=input_layer, outputs=[classification_output, bounding_box_output])\n",
        "    return model\n",
        "\n",
        "model = rcnn_model()\n",
        "# Compile the model\n",
        "model.compile(\n",
        "    optimizer=Adam(learning_rate=0.001),\n",
        "    loss={\n",
        "        \"classification\": \"categorical_crossentropy\",  # For classification output\n",
        "        \"bounding_box\": \"mean_squared_error\"           # For bounding box regression\n",
        "    },\n",
        "    metrics={\n",
        "        \"classification\": \"accuracy\",                 # Track accuracy for classification\n",
        "        \"bounding_box\": \"mse\"                         # Track MSE for bounding box\n",
        "    }\n",
        ")\n"
      ],
      "metadata": {
        "id": "gGaPULJ81BIF"
      },
      "execution_count": null,
      "outputs": []
    },
    {
      "cell_type": "code",
      "source": [
        "# Generate synthetic bounding boxes (normalized format: x_min, y_min, x_max, y_max)\n",
        "# In a real dataset, use actual bounding box annotations\n",
        "def generate_bounding_boxes(labels):\n",
        "    bounding_boxes = []\n",
        "    for label in labels:\n",
        "        x_min = np.random.uniform(0.1, 0.4)\n",
        "        y_min = np.random.uniform(0.1, 0.4)\n",
        "        x_max = x_min + np.random.uniform(0.2, 0.5)\n",
        "        y_max = y_min + np.random.uniform(0.2, 0.5)\n",
        "        bounding_boxes.append([x_min, y_min, x_max, y_max])\n",
        "    return np.array(bounding_boxes)\n",
        "\n",
        "y_train_boxes = generate_bounding_boxes(y_train)\n",
        "y_test_boxes = generate_bounding_boxes(y_test)\n"
      ],
      "metadata": {
        "id": "aIFkM9wF1FBJ"
      },
      "execution_count": null,
      "outputs": []
    },
    {
      "cell_type": "code",
      "source": [
        "# Train the model\n",
        "history = model.fit(\n",
        "    x_train,\n",
        "    {\n",
        "        \"classification\": y_train_onehot,      # One-hot encoded classification labels\n",
        "        \"bounding_box\": y_train_boxes          # Bounding box labels (normalized)\n",
        "    },\n",
        "    validation_data=(\n",
        "        x_test,\n",
        "        {\n",
        "            \"classification\": y_test_onehot,  # Validation classification labels\n",
        "            \"bounding_box\": y_test_boxes      # Validation bounding box labels\n",
        "        }\n",
        "    ),\n",
        "    epochs=10,\n",
        "    batch_size=64\n",
        ")\n"
      ],
      "metadata": {
        "colab": {
          "base_uri": "https://localhost:8080/"
        },
        "id": "fG71ng5t1Foy",
        "outputId": "1651bdf6-d29c-4c85-e19d-73546085bc8a"
      },
      "execution_count": null,
      "outputs": [
        {
          "output_type": "stream",
          "name": "stdout",
          "text": [
            "Epoch 1/10\n",
            "782/782 [==============================] - 91s 114ms/step - loss: 1.4238 - classification_loss: 1.4116 - bounding_box_loss: 0.0123 - classification_accuracy: 0.4977 - bounding_box_mse: 0.0123 - val_loss: 1.1785 - val_classification_loss: 1.1663 - val_bounding_box_loss: 0.0122 - val_classification_accuracy: 0.5869 - val_bounding_box_mse: 0.0122\n",
            "Epoch 2/10\n",
            "782/782 [==============================] - 87s 111ms/step - loss: 1.0517 - classification_loss: 1.0401 - bounding_box_loss: 0.0116 - classification_accuracy: 0.6340 - bounding_box_mse: 0.0116 - val_loss: 1.0378 - val_classification_loss: 1.0263 - val_bounding_box_loss: 0.0115 - val_classification_accuracy: 0.6460 - val_bounding_box_mse: 0.0115\n",
            "Epoch 3/10\n",
            "782/782 [==============================] - 86s 110ms/step - loss: 0.9155 - classification_loss: 0.9041 - bounding_box_loss: 0.0114 - classification_accuracy: 0.6833 - bounding_box_mse: 0.0114 - val_loss: 0.9555 - val_classification_loss: 0.9439 - val_bounding_box_loss: 0.0116 - val_classification_accuracy: 0.6764 - val_bounding_box_mse: 0.0116\n",
            "Epoch 4/10\n",
            "782/782 [==============================] - 87s 111ms/step - loss: 0.8159 - classification_loss: 0.8045 - bounding_box_loss: 0.0114 - classification_accuracy: 0.7197 - bounding_box_mse: 0.0114 - val_loss: 0.8884 - val_classification_loss: 0.8771 - val_bounding_box_loss: 0.0113 - val_classification_accuracy: 0.6970 - val_bounding_box_mse: 0.0113\n",
            "Epoch 5/10\n",
            "782/782 [==============================] - 87s 111ms/step - loss: 0.7327 - classification_loss: 0.7214 - bounding_box_loss: 0.0113 - classification_accuracy: 0.7493 - bounding_box_mse: 0.0113 - val_loss: 0.8890 - val_classification_loss: 0.8776 - val_bounding_box_loss: 0.0114 - val_classification_accuracy: 0.7009 - val_bounding_box_mse: 0.0114\n",
            "Epoch 6/10\n",
            "782/782 [==============================] - 88s 112ms/step - loss: 0.6594 - classification_loss: 0.6481 - bounding_box_loss: 0.0113 - classification_accuracy: 0.7736 - bounding_box_mse: 0.0113 - val_loss: 0.8593 - val_classification_loss: 0.8478 - val_bounding_box_loss: 0.0115 - val_classification_accuracy: 0.7157 - val_bounding_box_mse: 0.0115\n",
            "Epoch 7/10\n",
            "782/782 [==============================] - 87s 111ms/step - loss: 0.5890 - classification_loss: 0.5778 - bounding_box_loss: 0.0112 - classification_accuracy: 0.8006 - bounding_box_mse: 0.0112 - val_loss: 0.8892 - val_classification_loss: 0.8778 - val_bounding_box_loss: 0.0114 - val_classification_accuracy: 0.7074 - val_bounding_box_mse: 0.0114\n",
            "Epoch 8/10\n",
            "782/782 [==============================] - 87s 111ms/step - loss: 0.5206 - classification_loss: 0.5094 - bounding_box_loss: 0.0112 - classification_accuracy: 0.8230 - bounding_box_mse: 0.0112 - val_loss: 0.8632 - val_classification_loss: 0.8516 - val_bounding_box_loss: 0.0115 - val_classification_accuracy: 0.7193 - val_bounding_box_mse: 0.0115\n",
            "Epoch 9/10\n",
            "782/782 [==============================] - 86s 111ms/step - loss: 0.4577 - classification_loss: 0.4467 - bounding_box_loss: 0.0111 - classification_accuracy: 0.8446 - bounding_box_mse: 0.0111 - val_loss: 0.9679 - val_classification_loss: 0.9563 - val_bounding_box_loss: 0.0116 - val_classification_accuracy: 0.7101 - val_bounding_box_mse: 0.0116\n",
            "Epoch 10/10\n",
            "782/782 [==============================] - 86s 110ms/step - loss: 0.3955 - classification_loss: 0.3845 - bounding_box_loss: 0.0109 - classification_accuracy: 0.8644 - bounding_box_mse: 0.0109 - val_loss: 1.0411 - val_classification_loss: 1.0295 - val_bounding_box_loss: 0.0116 - val_classification_accuracy: 0.7033 - val_bounding_box_mse: 0.0116\n"
          ]
        }
      ]
    },
    {
      "cell_type": "code",
      "source": [
        "# Visualize predictions\n",
        "def visualize_predictions(images, labels, boxes, predictions):\n",
        "    for i in range(5):\n",
        "        plt.figure(figsize=(4, 4))\n",
        "        plt.imshow(images[i])\n",
        "        true_label = class_names[np.argmax(labels[i])]\n",
        "        predicted_label = class_names[np.argmax(predictions[0][i])]\n",
        "        box = predictions[1][i] * 32  # Scale bounding box back to pixel dimensions\n",
        "        x_min, y_min, x_max, y_max = box\n",
        "        plt.gca().add_patch(plt.Rectangle(\n",
        "            (x_min, y_min), x_max - x_min, y_max - y_min,\n",
        "            fill=False, edgecolor='red', linewidth=2\n",
        "        ))\n",
        "        plt.title(f\"True: {true_label}, Pred: {predicted_label}\")\n",
        "        plt.axis('off')\n",
        "        plt.show()\n",
        "\n",
        "predictions = model.predict(x_test[:5])\n",
        "visualize_predictions(x_test[:5], y_test_onehot[:5], y_test_boxes[:5], predictions)\n"
      ],
      "metadata": {
        "colab": {
          "base_uri": "https://localhost:8080/",
          "height": 1000
        },
        "id": "of70xTeZ1KYO",
        "outputId": "c8c1461d-274e-4f2c-83cb-646753801c20"
      },
      "execution_count": null,
      "outputs": [
        {
          "output_type": "stream",
          "name": "stdout",
          "text": [
            "1/1 [==============================] - 0s 106ms/step\n"
          ]
        },
        {
          "output_type": "display_data",
          "data": {
            "text/plain": [
              "<Figure size 400x400 with 1 Axes>"
            ],
            "image/png": "[encoded data removed]"
          },
          "metadata": {}
        },
        {
          "output_type": "display_data",
          "data": {
            "text/plain": [
              "<Figure size 400x400 with 1 Axes>"
            ],
            "image/png": "[encoded data removed]"
          },
          "metadata": {}
        },
        {
          "output_type": "display_data",
          "data": {
            "text/plain": [
              "<Figure size 400x400 with 1 Axes>"
            ],
            "image/png": "[encoded data removed]"
          },
          "metadata": {}
        },
        {
          "output_type": "display_data",
          "data": {
            "text/plain": [
              "<Figure size 400x400 with 1 Axes>"
            ],
            "image/png": "[encoded data removed]"
          },
          "metadata": {}
        },
        {
          "output_type": "display_data",
          "data": {
            "text/plain": [
              "<Figure size 400x400 with 1 Axes>"
            ],
            "image/png": "[encoded data removed]"
          },
          "metadata": {}
        }
      ]
    },
    {
      "cell_type": "code",
      "source": [
        "import numpy as np\n",
        "from tqdm import tqdm\n",
        "from sklearn.metrics import average_precision_score\n",
        "import time\n",
        "\n",
        "\n",
        "def calculate_map(predictions, ground_truth_boxes, ground_truth_labels, num_classes=10, iou_threshold=0.5):\n",
        "    \"\"\"\n",
        "    Calculates mean Average Precision (mAP) for object detection.\n",
        "\n",
        "    Args:\n",
        "      predictions: A list of predictions, each containing bounding boxes and class probabilities.\n",
        "      ground_truth_boxes: A list of ground truth bounding boxes.\n",
        "      ground_truth_labels: A list of ground truth class labels.\n",
        "      num_classes: The number of classes in the dataset.\n",
        "      iou_threshold: The IoU threshold for considering a detection as a true positive.\n",
        "\n",
        "    Returns:\n",
        "      The mAP score.\n",
        "    \"\"\"\n",
        "    average_precisions = []\n",
        "    # predictions[0] contains classification probabilities\n",
        "    # predictions[1] contains bounding box coordinates\n",
        "\n",
        "    for class_id in tqdm(range(num_classes), desc=\"Calculating mAP\"):\n",
        "        class_predictions = []\n",
        "        class_ground_truths = []\n",
        "        for i in range(len(predictions[0])):  # Iterate over the number of predictions\n",
        "            # Filter predictions and ground truths for the current class\n",
        "            # Access predictions using indices directly\n",
        "\n",
        "            if np.argmax(predictions[0][i]) == class_id:\n",
        "                class_predictions.extend([(predictions[1][i], predictions[0][i][class_id])])\n",
        "\n",
        "            if ground_truth_labels[i][0] == class_id:  # Assuming ground_truth_labels is a list of lists or a 2D array\n",
        "                class_ground_truths.extend([(ground_truth_boxes[i], 1)])\n",
        "\n",
        "            # If no predictions or ground truths for this class, skip\n",
        "        if not class_predictions or not class_ground_truths:\n",
        "            continue\n",
        "        # ... (rest of the mAP calculation logic, similar to standard implementations) ...\n",
        "    # Calculate and return mAP\n",
        "    map_score = np.mean(average_precisions)\n",
        "    return map_score\n",
        "\n",
        "\n",
        "def calculate_fps(model, images, num_frames=100):\n",
        "    \"\"\"\n",
        "    Calculates Frames Per Second (FPS) for a model.\n",
        "\n",
        "    Args:\n",
        "      model: The object detection model.\n",
        "      images: A list of images to process.\n",
        "      num_frames: The number of frames to use for FPS calculation.\n",
        "\n",
        "    Returns:\n",
        "      The FPS value.\n",
        "    \"\"\"\n",
        "    start_time = time.time()\n",
        "    for i in range(num_frames):\n",
        "        _ = model.predict(images[i:i + 1])  # Run inference on a single image\n",
        "    end_time = time.time()\n",
        "    fps = num_frames / (end_time - start_time)\n",
        "    return fps\n",
        "\n",
        "predictions = model.predict(x_test)  # Get predictions for the test set\n",
        "\n",
        "# Adapt the following lines to match your data format:\n",
        "ground_truth_boxes = y_test_boxes  # Replace with your ground truth bounding boxes\n",
        "ground_truth_labels = y_test  # Replace with your ground truth class labels\n",
        "\n",
        "# Calculate mAP\n",
        "map_score = calculate_map(predictions, ground_truth_boxes, ground_truth_labels)\n",
        "print(f\"mAP: {map_score}\")\n",
        "\n",
        "# Calculate FPS\n",
        "fps = calculate_fps(model, x_test)\n",
        "print(f\"FPS: {fps}\")\n",
        "\n",
        "# ... (Your existing code) ..."
      ],
      "metadata": {
        "colab": {
          "base_uri": "https://localhost:8080/"
        },
        "id": "qSYRGk0j5bf3",
        "outputId": "7f52cb4a-caa0-4da0-98ed-1b3a499c3f22"
      },
      "execution_count": null,
      "outputs": [
        {
          "output_type": "stream",
          "name": "stdout",
          "text": [
            "313/313 [==============================] - 3s 11ms/step\n"
          ]
        },
        {
          "output_type": "stream",
          "name": "stderr",
          "text": [
            "Calculating mAP: 100%|██████████| 10/10 [00:00<00:00, 26.32it/s]\n",
            "/usr/local/lib/python3.10/dist-packages/numpy/core/fromnumeric.py:3504: RuntimeWarning: Mean of empty slice.\n",
            "  return _methods._mean(a, axis=axis, dtype=dtype,\n",
            "/usr/local/lib/python3.10/dist-packages/numpy/core/_methods.py:129: RuntimeWarning: invalid value encountered in scalar divide\n",
            "  ret = ret.dtype.type(ret / rcount)\n"
          ]
        },
        {
          "output_type": "stream",
          "name": "stdout",
          "text": [
            "mAP: nan\n",
            "1/1 [==============================] - 0s 23ms/step\n",
            "1/1 [==============================] - 0s 24ms/step\n",
            "1/1 [==============================] - 0s 22ms/step\n",
            "1/1 [==============================] - 0s 22ms/step\n",
            "1/1 [==============================] - 0s 23ms/step\n",
            "1/1 [==============================] - 0s 22ms/step\n",
            "1/1 [==============================] - 0s 23ms/step\n",
            "1/1 [==============================] - 0s 23ms/step\n",
            "1/1 [==============================] - 0s 24ms/step\n",
            "1/1 [==============================] - 0s 23ms/step\n",
            "1/1 [==============================] - 0s 22ms/step\n",
            "1/1 [==============================] - 0s 23ms/step\n",
            "1/1 [==============================] - 0s 25ms/step\n",
            "1/1 [==============================] - 0s 24ms/step\n",
            "1/1 [==============================] - 0s 23ms/step\n",
            "1/1 [==============================] - 0s 26ms/step\n",
            "1/1 [==============================] - 0s 24ms/step\n",
            "1/1 [==============================] - 0s 23ms/step\n",
            "1/1 [==============================] - 0s 22ms/step\n",
            "1/1 [==============================] - 0s 24ms/step\n",
            "1/1 [==============================] - 0s 23ms/step\n",
            "1/1 [==============================] - 0s 23ms/step\n",
            "1/1 [==============================] - 0s 23ms/step\n",
            "1/1 [==============================] - 0s 23ms/step\n",
            "1/1 [==============================] - 0s 22ms/step\n",
            "1/1 [==============================] - 0s 25ms/step\n",
            "1/1 [==============================] - 0s 26ms/step\n",
            "1/1 [==============================] - 0s 23ms/step\n",
            "1/1 [==============================] - 0s 23ms/step\n",
            "1/1 [==============================] - 0s 23ms/step\n",
            "1/1 [==============================] - 0s 23ms/step\n",
            "1/1 [==============================] - 0s 23ms/step\n",
            "1/1 [==============================] - 0s 23ms/step\n",
            "1/1 [==============================] - 0s 23ms/step\n",
            "1/1 [==============================] - 0s 22ms/step\n",
            "1/1 [==============================] - 0s 22ms/step\n",
            "1/1 [==============================] - 0s 23ms/step\n",
            "1/1 [==============================] - 0s 22ms/step\n",
            "1/1 [==============================] - 0s 23ms/step\n",
            "1/1 [==============================] - 0s 24ms/step\n",
            "1/1 [==============================] - 0s 24ms/step\n",
            "1/1 [==============================] - 0s 24ms/step\n",
            "1/1 [==============================] - 0s 23ms/step\n",
            "1/1 [==============================] - 0s 23ms/step\n",
            "1/1 [==============================] - 0s 23ms/step\n",
            "1/1 [==============================] - 0s 23ms/step\n",
            "1/1 [==============================] - 0s 23ms/step\n",
            "1/1 [==============================] - 0s 23ms/step\n",
            "1/1 [==============================] - 0s 22ms/step\n",
            "1/1 [==============================] - 0s 23ms/step\n",
            "1/1 [==============================] - 0s 22ms/step\n",
            "1/1 [==============================] - 0s 22ms/step\n",
            "1/1 [==============================] - 0s 23ms/step\n",
            "1/1 [==============================] - 0s 23ms/step\n",
            "1/1 [==============================] - 0s 23ms/step\n",
            "1/1 [==============================] - 0s 24ms/step\n",
            "1/1 [==============================] - 0s 25ms/step\n",
            "1/1 [==============================] - 0s 24ms/step\n",
            "1/1 [==============================] - 0s 24ms/step\n",
            "1/1 [==============================] - 0s 23ms/step\n",
            "1/1 [==============================] - 0s 23ms/step\n",
            "1/1 [==============================] - 0s 23ms/step\n",
            "1/1 [==============================] - 0s 23ms/step\n",
            "1/1 [==============================] - 0s 23ms/step\n",
            "1/1 [==============================] - 0s 24ms/step\n",
            "1/1 [==============================] - 0s 24ms/step\n",
            "1/1 [==============================] - 0s 23ms/step\n",
            "1/1 [==============================] - 0s 23ms/step\n",
            "1/1 [==============================] - 0s 23ms/step\n",
            "1/1 [==============================] - 0s 24ms/step\n",
            "1/1 [==============================] - 0s 25ms/step\n",
            "1/1 [==============================] - 0s 26ms/step\n",
            "1/1 [==============================] - 0s 23ms/step\n",
            "1/1 [==============================] - 0s 23ms/step\n",
            "1/1 [==============================] - 0s 24ms/step\n",
            "1/1 [==============================] - 0s 23ms/step\n",
            "1/1 [==============================] - 0s 24ms/step\n",
            "1/1 [==============================] - 0s 22ms/step\n",
            "1/1 [==============================] - 0s 23ms/step\n",
            "1/1 [==============================] - 0s 23ms/step\n",
            "1/1 [==============================] - 0s 22ms/step\n",
            "1/1 [==============================] - 0s 22ms/step\n",
            "1/1 [==============================] - 0s 23ms/step\n",
            "1/1 [==============================] - 0s 24ms/step\n",
            "1/1 [==============================] - 0s 23ms/step\n",
            "1/1 [==============================] - 0s 23ms/step\n",
            "1/1 [==============================] - 0s 23ms/step\n",
            "1/1 [==============================] - 0s 23ms/step\n",
            "1/1 [==============================] - 0s 23ms/step\n",
            "1/1 [==============================] - 0s 23ms/step\n",
            "1/1 [==============================] - 0s 23ms/step\n",
            "1/1 [==============================] - 0s 22ms/step\n",
            "1/1 [==============================] - 0s 23ms/step\n",
            "1/1 [==============================] - 0s 23ms/step\n",
            "1/1 [==============================] - 0s 23ms/step\n",
            "1/1 [==============================] - 0s 23ms/step\n",
            "1/1 [==============================] - 0s 23ms/step\n",
            "1/1 [==============================] - 0s 24ms/step\n",
            "1/1 [==============================] - 0s 24ms/step\n",
            "1/1 [==============================] - 0s 24ms/step\n",
            "FPS: 14.10573483012784\n"
          ]
        }
      ]
    },
    {
      "cell_type": "code",
      "source": [],
      "metadata": {
        "id": "5NFm2HZ47Ghb"
      },
      "execution_count": null,
      "outputs": []
    }
  ]
}