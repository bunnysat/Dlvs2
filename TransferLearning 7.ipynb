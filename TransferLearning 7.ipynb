{
  "nbformat": 4,
  "nbformat_minor": 0,
  "metadata": {
    "colab": {
      "provenance": [],
      "gpuType": "T4"
    },
    "kernelspec": {
      "name": "python3",
      "display_name": "Python 3"
    },
    "language_info": {
      "name": "python"
    },
    "accelerator": "GPU"
  },
  "cells": [
    {
      "cell_type": "code",
      "execution_count": 2,
      "metadata": {
        "id": "rhlzfTQXbZGs"
      },
      "outputs": [],
      "source": [
        "import tensorflow as tf\n",
        "from tensorflow.keras import layers, models, optimizers\n",
        "from tensorflow.keras.applications import VGG16\n",
        "from tensorflow.keras.datasets import cifar10\n",
        "from tensorflow.keras.utils import to_categorical\n",
        "from tensorflow.keras.callbacks import EarlyStopping, ReduceLROnPlateau\n"
      ]
    },
    {
      "cell_type": "code",
      "source": [
        "# Load and preprocess CIFAR-10 data\n",
        "(x_train, y_train), (x_test, y_test) = cifar10.load_data()\n"
      ],
      "metadata": {
        "colab": {
          "base_uri": "https://localhost:8080/"
        },
        "id": "A0GWHFaEbe2Z",
        "outputId": "d05e4449-2626-4a03-9787-b3808c15073e"
      },
      "execution_count": 3,
      "outputs": [
        {
          "output_type": "stream",
          "name": "stdout",
          "text": [
            "Downloading data from https://www.cs.toronto.edu/~kriz/cifar-10-python.tar.gz\n",
            "\u001b[1m170498071/170498071\u001b[0m \u001b[32m━━━━━━━━━━━━━━━━━━━━\u001b[0m\u001b[37m\u001b[0m \u001b[1m6s\u001b[0m 0us/step\n"
          ]
        }
      ]
    },
    {
      "cell_type": "code",
      "source": [
        "# One-hot encode the labels\n",
        "y_train = to_categorical(y_train, 10)\n",
        "y_test = to_categorical(y_test, 10)\n"
      ],
      "metadata": {
        "id": "5ZmPh0ambhp1"
      },
      "execution_count": 4,
      "outputs": []
    },
    {
      "cell_type": "code",
      "source": [
        "# Preprocess images (resize and normalize)\n",
        "def preprocess_images(images, labels):\n",
        "    images = tf.image.resize(images, (224, 224)) / 255.0  # Resize to 224x224 and normalize\n",
        "    return images, labels\n",
        "\n",
        "batch_size = 32\n",
        "train_ds = tf.data.Dataset.from_tensor_slices((x_train, y_train))\n",
        "train_ds = train_ds.map(preprocess_images).batch(batch_size).prefetch(tf.data.AUTOTUNE)\n",
        "\n",
        "test_ds = tf.data.Dataset.from_tensor_slices((x_test, y_test))\n",
        "test_ds = test_ds.map(preprocess_images).batch(batch_size).prefetch(tf.data.AUTOTUNE)\n"
      ],
      "metadata": {
        "id": "SY0_hrPlbkXX"
      },
      "execution_count": 5,
      "outputs": []
    },
    {
      "cell_type": "code",
      "source": [
        "# Load the VGG16 model without the top layer\n",
        "vgg_base = VGG16(weights='imagenet', include_top=False, input_shape=(224, 224, 3))\n",
        "vgg_base.trainable = False  # Freeze the base layers initially"
      ],
      "metadata": {
        "colab": {
          "base_uri": "https://localhost:8080/"
        },
        "id": "7LqGJh-ubsEC",
        "outputId": "5e9dbf9b-13f3-4555-f1de-c3f31415b5d6"
      },
      "execution_count": 6,
      "outputs": [
        {
          "output_type": "stream",
          "name": "stdout",
          "text": [
            "Downloading data from https://storage.googleapis.com/tensorflow/keras-applications/vgg16/vgg16_weights_tf_dim_ordering_tf_kernels_notop.h5\n",
            "\u001b[1m58889256/58889256\u001b[0m \u001b[32m━━━━━━━━━━━━━━━━━━━━\u001b[0m\u001b[37m\u001b[0m \u001b[1m0s\u001b[0m 0us/step\n"
          ]
        }
      ]
    },
    {
      "cell_type": "code",
      "source": [
        "# Add a custom classification head\n",
        "model = models.Sequential([\n",
        "    vgg_base,\n",
        "    layers.Flatten(),\n",
        "    layers.Dense(256, activation='relu'),\n",
        "    layers.Dropout(0.5),\n",
        "    layers.Dense(10, activation='softmax')  # CIFAR-10 has 10 classes\n",
        "])\n"
      ],
      "metadata": {
        "id": "TQgtIvRMbu7U"
      },
      "execution_count": 7,
      "outputs": []
    },
    {
      "cell_type": "code",
      "source": [
        "# Compile the model with initial hyperparameters\n",
        "learning_rate = 0.001\n",
        "model.compile(optimizer=optimizers.Adam(learning_rate=learning_rate),\n",
        "              loss='categorical_crossentropy',\n",
        "              metrics=['accuracy'])\n"
      ],
      "metadata": {
        "id": "lURIgVb2bxrn"
      },
      "execution_count": 8,
      "outputs": []
    },
    {
      "cell_type": "code",
      "source": [
        "# Define callbacks for early stopping and learning rate reduction\n",
        "early_stopping = EarlyStopping(monitor='val_loss', patience=5, restore_best_weights=True)\n",
        "reduce_lr = ReduceLROnPlateau(monitor='val_loss', factor=0.5, patience=3, min_lr=1e-6)\n"
      ],
      "metadata": {
        "id": "cyRI90bgb1YG"
      },
      "execution_count": 9,
      "outputs": []
    },
    {
      "cell_type": "code",
      "source": [
        "# Train the model\n",
        "history = model.fit(train_ds,\n",
        "                    epochs=20,\n",
        "                    validation_data=test_ds,\n",
        "                    callbacks=[early_stopping, reduce_lr])\n"
      ],
      "metadata": {
        "colab": {
          "base_uri": "https://localhost:8080/"
        },
        "id": "Xbdeprshb4lC",
        "outputId": "81dd7c66-1e45-4678-a805-75524e266acd"
      },
      "execution_count": 10,
      "outputs": [
        {
          "output_type": "stream",
          "name": "stdout",
          "text": [
            "Epoch 1/20\n",
            "\u001b[1m1563/1563\u001b[0m \u001b[32m━━━━━━━━━━━━━━━━━━━━\u001b[0m\u001b[37m\u001b[0m \u001b[1m244s\u001b[0m 147ms/step - accuracy: 0.2246 - loss: 2.0825 - val_accuracy: 0.4629 - val_loss: 1.4687 - learning_rate: 0.0010\n",
            "Epoch 2/20\n",
            "\u001b[1m1563/1563\u001b[0m \u001b[32m━━━━━━━━━━━━━━━━━━━━\u001b[0m\u001b[37m\u001b[0m \u001b[1m251s\u001b[0m 149ms/step - accuracy: 0.3118 - loss: 1.7666 - val_accuracy: 0.5390 - val_loss: 1.3585 - learning_rate: 0.0010\n",
            "Epoch 3/20\n",
            "\u001b[1m1563/1563\u001b[0m \u001b[32m━━━━━━━━━━━━━━━━━━━━\u001b[0m\u001b[37m\u001b[0m \u001b[1m258s\u001b[0m 146ms/step - accuracy: 0.3347 - loss: 1.7017 - val_accuracy: 0.5786 - val_loss: 1.3148 - learning_rate: 0.0010\n",
            "Epoch 4/20\n",
            "\u001b[1m1563/1563\u001b[0m \u001b[32m━━━━━━━━━━━━━━━━━━━━\u001b[0m\u001b[37m\u001b[0m \u001b[1m265s\u001b[0m 148ms/step - accuracy: 0.3357 - loss: 1.6786 - val_accuracy: 0.5921 - val_loss: 1.2889 - learning_rate: 0.0010\n",
            "Epoch 5/20\n",
            "\u001b[1m1563/1563\u001b[0m \u001b[32m━━━━━━━━━━━━━━━━━━━━\u001b[0m\u001b[37m\u001b[0m \u001b[1m262s\u001b[0m 148ms/step - accuracy: 0.3435 - loss: 1.6670 - val_accuracy: 0.5495 - val_loss: 1.3188 - learning_rate: 0.0010\n",
            "Epoch 6/20\n",
            "\u001b[1m1563/1563\u001b[0m \u001b[32m━━━━━━━━━━━━━━━━━━━━\u001b[0m\u001b[37m\u001b[0m \u001b[1m233s\u001b[0m 149ms/step - accuracy: 0.3542 - loss: 1.6402 - val_accuracy: 0.5629 - val_loss: 1.2936 - learning_rate: 0.0010\n",
            "Epoch 7/20\n",
            "\u001b[1m1563/1563\u001b[0m \u001b[32m━━━━━━━━━━━━━━━━━━━━\u001b[0m\u001b[37m\u001b[0m \u001b[1m258s\u001b[0m 146ms/step - accuracy: 0.3542 - loss: 1.6337 - val_accuracy: 0.6158 - val_loss: 1.2068 - learning_rate: 0.0010\n",
            "Epoch 8/20\n",
            "\u001b[1m1563/1563\u001b[0m \u001b[32m━━━━━━━━━━━━━━━━━━━━\u001b[0m\u001b[37m\u001b[0m \u001b[1m262s\u001b[0m 146ms/step - accuracy: 0.3641 - loss: 1.6141 - val_accuracy: 0.6269 - val_loss: 1.2131 - learning_rate: 0.0010\n",
            "Epoch 9/20\n",
            "\u001b[1m1563/1563\u001b[0m \u001b[32m━━━━━━━━━━━━━━━━━━━━\u001b[0m\u001b[37m\u001b[0m \u001b[1m262s\u001b[0m 146ms/step - accuracy: 0.3585 - loss: 1.6119 - val_accuracy: 0.6060 - val_loss: 1.1677 - learning_rate: 0.0010\n",
            "Epoch 10/20\n",
            "\u001b[1m1563/1563\u001b[0m \u001b[32m━━━━━━━━━━━━━━━━━━━━\u001b[0m\u001b[37m\u001b[0m \u001b[1m264s\u001b[0m 147ms/step - accuracy: 0.3679 - loss: 1.5958 - val_accuracy: 0.6119 - val_loss: 1.2375 - learning_rate: 0.0010\n",
            "Epoch 11/20\n",
            "\u001b[1m1563/1563\u001b[0m \u001b[32m━━━━━━━━━━━━━━━━━━━━\u001b[0m\u001b[37m\u001b[0m \u001b[1m233s\u001b[0m 149ms/step - accuracy: 0.3709 - loss: 1.5859 - val_accuracy: 0.6132 - val_loss: 1.1557 - learning_rate: 0.0010\n",
            "Epoch 12/20\n",
            "\u001b[1m1563/1563\u001b[0m \u001b[32m━━━━━━━━━━━━━━━━━━━━\u001b[0m\u001b[37m\u001b[0m \u001b[1m263s\u001b[0m 149ms/step - accuracy: 0.3709 - loss: 1.5799 - val_accuracy: 0.5984 - val_loss: 1.2612 - learning_rate: 0.0010\n",
            "Epoch 13/20\n",
            "\u001b[1m1563/1563\u001b[0m \u001b[32m━━━━━━━━━━━━━━━━━━━━\u001b[0m\u001b[37m\u001b[0m \u001b[1m229s\u001b[0m 147ms/step - accuracy: 0.3723 - loss: 1.5772 - val_accuracy: 0.6097 - val_loss: 1.1474 - learning_rate: 0.0010\n",
            "Epoch 14/20\n",
            "\u001b[1m1563/1563\u001b[0m \u001b[32m━━━━━━━━━━━━━━━━━━━━\u001b[0m\u001b[37m\u001b[0m \u001b[1m266s\u001b[0m 150ms/step - accuracy: 0.3777 - loss: 1.5636 - val_accuracy: 0.6301 - val_loss: 1.1749 - learning_rate: 0.0010\n",
            "Epoch 15/20\n",
            "\u001b[1m1563/1563\u001b[0m \u001b[32m━━━━━━━━━━━━━━━━━━━━\u001b[0m\u001b[37m\u001b[0m \u001b[1m259s\u001b[0m 148ms/step - accuracy: 0.3768 - loss: 1.5599 - val_accuracy: 0.6247 - val_loss: 1.1324 - learning_rate: 0.0010\n",
            "Epoch 16/20\n",
            "\u001b[1m1563/1563\u001b[0m \u001b[32m━━━━━━━━━━━━━━━━━━━━\u001b[0m\u001b[37m\u001b[0m \u001b[1m265s\u001b[0m 149ms/step - accuracy: 0.3804 - loss: 1.5540 - val_accuracy: 0.6476 - val_loss: 1.1167 - learning_rate: 0.0010\n",
            "Epoch 17/20\n",
            "\u001b[1m1563/1563\u001b[0m \u001b[32m━━━━━━━━━━━━━━━━━━━━\u001b[0m\u001b[37m\u001b[0m \u001b[1m259s\u001b[0m 148ms/step - accuracy: 0.3808 - loss: 1.5437 - val_accuracy: 0.5941 - val_loss: 1.2419 - learning_rate: 0.0010\n",
            "Epoch 18/20\n",
            "\u001b[1m1563/1563\u001b[0m \u001b[32m━━━━━━━━━━━━━━━━━━━━\u001b[0m\u001b[37m\u001b[0m \u001b[1m265s\u001b[0m 149ms/step - accuracy: 0.3795 - loss: 1.5479 - val_accuracy: 0.6145 - val_loss: 1.2136 - learning_rate: 0.0010\n",
            "Epoch 19/20\n",
            "\u001b[1m1563/1563\u001b[0m \u001b[32m━━━━━━━━━━━━━━━━━━━━\u001b[0m\u001b[37m\u001b[0m \u001b[1m259s\u001b[0m 148ms/step - accuracy: 0.3838 - loss: 1.5442 - val_accuracy: 0.6107 - val_loss: 1.1773 - learning_rate: 0.0010\n",
            "Epoch 20/20\n",
            "\u001b[1m1563/1563\u001b[0m \u001b[32m━━━━━━━━━━━━━━━━━━━━\u001b[0m\u001b[37m\u001b[0m \u001b[1m262s\u001b[0m 147ms/step - accuracy: 0.3980 - loss: 1.5018 - val_accuracy: 0.6489 - val_loss: 1.0936 - learning_rate: 5.0000e-04\n"
          ]
        }
      ]
    },
    {
      "cell_type": "code",
      "source": [
        "# Unfreeze some layers for fine-tuning\n",
        "vgg_base.trainable = True  # Unfreeze the entire base model\n"
      ],
      "metadata": {
        "id": "4bzB4HsRb7w5"
      },
      "execution_count": 11,
      "outputs": []
    },
    {
      "cell_type": "code",
      "source": [
        "# Recompile with a smaller learning rate for fine-tuning\n",
        "model.compile(optimizer=optimizers.Adam(learning_rate=0.0001),\n",
        "              loss='categorical_crossentropy',\n",
        "              metrics=['accuracy'])\n"
      ],
      "metadata": {
        "id": "AvpdaGTtb_dN"
      },
      "execution_count": 12,
      "outputs": []
    },
    {
      "cell_type": "code",
      "source": [
        "# Fine-tune the model\n",
        "history_fine_tune = model.fit(train_ds,\n",
        "                              epochs=10,\n",
        "                              validation_data=test_ds,\n",
        "                              callbacks=[early_stopping, reduce_lr])\n",
        "\n"
      ],
      "metadata": {
        "id": "_L7Bo13bcCBT",
        "colab": {
          "base_uri": "https://localhost:8080/"
        },
        "outputId": "5fccf58b-ce2f-4e8e-a248-b5f43896c0bb"
      },
      "execution_count": 13,
      "outputs": [
        {
          "output_type": "stream",
          "name": "stdout",
          "text": [
            "Epoch 1/10\n",
            "\u001b[1m1563/1563\u001b[0m \u001b[32m━━━━━━━━━━━━━━━━━━━━\u001b[0m\u001b[37m\u001b[0m \u001b[1m838s\u001b[0m 510ms/step - accuracy: 0.1084 - loss: 2.3640 - val_accuracy: 0.1000 - val_loss: 2.3568 - learning_rate: 1.0000e-04\n",
            "Epoch 2/10\n",
            "\u001b[1m1563/1563\u001b[0m \u001b[32m━━━━━━━━━━━━━━━━━━━━\u001b[0m\u001b[37m\u001b[0m \u001b[1m786s\u001b[0m 485ms/step - accuracy: 0.0999 - loss: 2.3520 - val_accuracy: 0.1000 - val_loss: 2.3379 - learning_rate: 1.0000e-04\n",
            "Epoch 3/10\n",
            "\u001b[1m1563/1563\u001b[0m \u001b[32m━━━━━━━━━━━━━━━━━━━━\u001b[0m\u001b[37m\u001b[0m \u001b[1m759s\u001b[0m 486ms/step - accuracy: 0.0999 - loss: 2.3347 - val_accuracy: 0.1000 - val_loss: 2.3250 - learning_rate: 1.0000e-04\n",
            "Epoch 4/10\n",
            "\u001b[1m1563/1563\u001b[0m \u001b[32m━━━━━━━━━━━━━━━━━━━━\u001b[0m\u001b[37m\u001b[0m \u001b[1m806s\u001b[0m 488ms/step - accuracy: 0.0999 - loss: 2.3229 - val_accuracy: 0.1000 - val_loss: 2.3164 - learning_rate: 1.0000e-04\n",
            "Epoch 5/10\n",
            "\u001b[1m1563/1563\u001b[0m \u001b[32m━━━━━━━━━━━━━━━━━━━━\u001b[0m\u001b[37m\u001b[0m \u001b[1m801s\u001b[0m 488ms/step - accuracy: 0.0999 - loss: 2.3151 - val_accuracy: 0.1000 - val_loss: 2.3109 - learning_rate: 1.0000e-04\n"
          ]
        }
      ]
    },
    {
      "cell_type": "code",
      "source": [
        "# Evaluate the model\n",
        "test_loss, test_acc = model.evaluate(test_ds)\n",
        "print(f\"Final Test Accuracy: {test_acc:.2f}\")"
      ],
      "metadata": {
        "id": "lkuJ_DRHcE3q",
        "colab": {
          "base_uri": "https://localhost:8080/"
        },
        "outputId": "224a7146-2c2b-4e49-c984-e2602d3d7958"
      },
      "execution_count": 14,
      "outputs": [
        {
          "output_type": "stream",
          "name": "stdout",
          "text": [
            "\u001b[1m313/313\u001b[0m \u001b[32m━━━━━━━━━━━━━━━━━━━━\u001b[0m\u001b[37m\u001b[0m \u001b[1m38s\u001b[0m 122ms/step - accuracy: 0.0995 - loss: 2.3567\n",
            "Final Test Accuracy: 0.10\n"
          ]
        }
      ]
    }
  ]
}